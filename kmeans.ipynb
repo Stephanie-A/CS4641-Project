{
 "cells": [
  {
   "cell_type": "code",
   "execution_count": 23,
   "metadata": {
    "scrolled": true
   },
   "outputs": [],
   "source": [
    "from sklearn.cluster import KMeans\n",
    "from sklearn.decomposition import PCA\n",
    "import pandas as pd\n",
    "import numpy as np\n",
    "# import pickle\n",
    "import matplotlib.pyplot as plt"
   ]
  },
  {
   "cell_type": "code",
   "execution_count": 12,
   "metadata": {
    "scrolled": true
   },
   "outputs": [],
   "source": [
    "rows = [\n",
    "    \"Alabama 2012\", \n",
    "\"Alabama 2016\", \n",
    "\"Alaska 2012\", \n",
    "\"Alaska 2016\", \n",
    "\"Arizona 2012\", \n",
    "\"Arizona 2016\", \n",
    "\"Arkansas 2012\", \n",
    "\"Arkansas 2016\", \n",
    "\"California 2012\", \n",
    "\"California 2016\", \n",
    "\"Colorado 2012\", \n",
    "\"Colorado 2016\", \n",
    "\"Connecticut 2012\", \n",
    "\"Connecticut 2016\", \n",
    "\"Delaware 2012\", \n",
    "\"Delaware 2016\", \n",
    "\"Florida 2012\", \n",
    "\"Florida 2016\", \n",
    "\"Georgia 2012\", \n",
    "\"Georgia 2016\", \n",
    "\"Hawaii 2012\", \n",
    "\"Hawaii 2016\", \n",
    "\"Idaho 2012\", \n",
    "\"Idaho 2016\", \n",
    "\"Illinois 2012\", \n",
    "\"Illinois 2016\", \n",
    "\"Indiana 2012\", \n",
    "\"Indiana 2016\", \n",
    "\"Iowa 2012\", \n",
    "\"Iowa 2016\", \n",
    "\"Kansas 2012\", \n",
    "\"Kansas 2016\", \n",
    "\"Kentucky 2012\", \n",
    "\"Kentucky 2016\", \n",
    "\"Louisiana 2012\", \n",
    "\"Louisiana 2016\", \n",
    "\"Maine 2012\", \n",
    "\"Maine 2016\", \n",
    "\"Maryland 2012\", \n",
    "\"Maryland 2016\", \n",
    "\"Massachusetts 2012\", \n",
    "\"Massachusetts 2016\", \n",
    "\"Michigan 2012\", \n",
    "\"Michigan 2016\", \n",
    "\"Minnesota 2012\", \n",
    "\"Minnesota 2016\", \n",
    "\"Mississippi 2012\", \n",
    "\"Mississippi 2016\", \n",
    "\"Missouri 2012\", \n",
    "\"Missouri 2016\", \n",
    "\"Montana 2012\", \n",
    "\"Montana 2016\", \n",
    "\"Nebraska 2012\", \n",
    "\"Nebraska 2016\", \n",
    "\"Nevada 2012\", \n",
    "\"Nevada 2016\", \n",
    "\"New Hampshire 2012\", \n",
    "\"New Hampshire 2016\", \n",
    "\"New Jersey 2012\", \n",
    "\"New Jersey 2016\", \n",
    "\"New Mexico 2012\", \n",
    "\"New Mexico 2016\", \n",
    "\"New York 2012\", \n",
    "\"New York 2016\", \n",
    "\"North Carolina 2012\", \n",
    "\"North Carolina 2016\", \n",
    "\"North Dakota 2012\", \n",
    "\"North Dakota 2016\", \n",
    "\"Ohio 2012\", \n",
    "\"Ohio 2016\", \n",
    "\"Oklahoma 2012\", \n",
    "\"Oklahoma 2016\", \n",
    "\"Oregon 2012\", \n",
    "\"Oregon 2016\", \n",
    "\"Pennsylvania 2012\", \n",
    "\"Pennsylvania 2016\", \n",
    "\"Rhode Island 2012\", \n",
    "\"Rhode Island 2016\", \n",
    "\"South Carolina 2012\", \n",
    "\"South Carolina 2016\", \n",
    "\"South Dakota 2012\", \n",
    "\"South Dakota 2016\", \n",
    "\"Tennessee 2012\", \n",
    "\"Tennessee 2016\", \n",
    "\"Texas 2012\", \n",
    "\"Texas 2016\", \n",
    "\"Utah 2012\", \n",
    "\"Utah 2016\", \n",
    "\"Vermont 2012\", \n",
    "\"Vermont 2016\", \n",
    "\"Virginia 2012\", \n",
    "\"Virginia 2016\", \n",
    "\"Washington 2012\", \n",
    "\"Washington 2016\", \n",
    "\"West Virginia 2012\", \n",
    "\"West Virginia 2016\", \n",
    "\"Wisconsin 2012\", \n",
    "\"Wisconsin 2016\", \n",
    "\"Wyoming 2012\", \n",
    "\"Wyoming 2016\"\n",
    "]"
   ]
  },
  {
   "cell_type": "code",
   "execution_count": 38,
   "metadata": {
    "scrolled": true
   },
   "outputs": [],
   "source": [
    "# read csv input file\n",
    "X = pd.read_csv(\"combined_data_no-states.csv\", sep=\",\")"
   ]
  },
  {
   "cell_type": "code",
   "execution_count": 39,
   "metadata": {
    "scrolled": true
   },
   "outputs": [],
   "source": [
    "Sum_of_squared_distances = []\n",
    "K = range(1,15)\n",
    "for k in K:\n",
    "    km = KMeans(n_clusters=k)\n",
    "    km = km.fit(X)\n",
    "    Sum_of_squared_distances.append(km.inertia_)"
   ]
  },
  {
   "cell_type": "code",
   "execution_count": 40,
   "metadata": {
    "scrolled": true
   },
   "outputs": [
    {
     "data": {
      "image/png": "[encoded data removed]",
      "text/plain": [
       "<Figure size 432x288 with 1 Axes>"
      ]
     },
     "metadata": {
      "needs_background": "light"
     },
     "output_type": "display_data"
    }
   ],
   "source": [
    "plt.plot(K, Sum_of_squared_distances, 'bx-')\n",
    "plt.xlabel('k')\n",
    "plt.ylabel('Sum_of_squared_distances')\n",
    "plt.title('Elbow Method For Optimal k')\n",
    "plt.show()"
   ]
  },
  {
   "cell_type": "code",
   "execution_count": 41,
   "metadata": {
    "scrolled": true
   },
   "outputs": [],
   "source": [
    "# initialize KMeans object specifying the number of desired clusters\n",
    "kmeans_4 = KMeans(n_clusters=4)\n",
    "kmeans_3 = KMeans(n_clusters=3)\n",
    "kmeans_2 = KMeans(n_clusters=2)"
   ]
  },
  {
   "cell_type": "code",
   "execution_count": 42,
   "metadata": {
    "scrolled": true
   },
   "outputs": [
    {
     "data": {
      "text/plain": [
       "KMeans(n_clusters=2)"
      ]
     },
     "execution_count": 42,
     "metadata": {},
     "output_type": "execute_result"
    }
   ],
   "source": [
    "# learning the clustering from the input date\n",
    "kmeans_4.fit(X)\n",
    "kmeans_3.fit(X)\n",
    "kmeans_2.fit(X)\n"
   ]
  },
  {
   "cell_type": "code",
   "execution_count": 43,
   "metadata": {
    "scrolled": true
   },
   "outputs": [],
   "source": [
    "res_4 = {rows[i]: kmeans_4.labels_[i] for i in range(len(kmeans_4.labels_))}\n",
    "res_3 = {rows[i]: kmeans_3.labels_[i] for i in range(len(kmeans_3.labels_))}\n",
    "res_2 = {rows[i]: kmeans_2.labels_[i] for i in range(len(kmeans_2.labels_))}"
   ]
  },
  {
   "cell_type": "code",
   "execution_count": 44,
   "metadata": {
    "scrolled": true
   },
   "outputs": [
    {
     "data": {
      "text/plain": [
       "{'California 2012': 0,\n",
       " 'California 2016': 0,\n",
       " 'Connecticut 2012': 0,\n",
       " 'Connecticut 2016': 0,\n",
       " 'Delaware 2012': 0,\n",
       " 'Delaware 2016': 0,\n",
       " 'Hawaii 2012': 0,\n",
       " 'Hawaii 2016': 0,\n",
       " 'Maryland 2012': 0,\n",
       " 'Maryland 2016': 0,\n",
       " 'Massachusetts 2012': 0,\n",
       " 'Massachusetts 2016': 0,\n",
       " 'Minnesota 2016': 0,\n",
       " 'New Jersey 2012': 0,\n",
       " 'New Jersey 2016': 0,\n",
       " 'New York 2012': 0,\n",
       " 'New York 2016': 0,\n",
       " 'Oregon 2016': 0,\n",
       " 'Rhode Island 2012': 0,\n",
       " 'Rhode Island 2016': 0,\n",
       " 'Vermont 2012': 0,\n",
       " 'Vermont 2016': 0,\n",
       " 'Washington 2016': 0,\n",
       " 'Alabama 2012': 1,\n",
       " 'Alabama 2016': 1,\n",
       " 'Alaska 2016': 1,\n",
       " 'Arizona 2012': 1,\n",
       " 'Arizona 2016': 1,\n",
       " 'Arkansas 2016': 1,\n",
       " 'Georgia 2012': 1,\n",
       " 'Georgia 2016': 1,\n",
       " 'Idaho 2012': 1,\n",
       " 'Idaho 2016': 1,\n",
       " 'Indiana 2012': 1,\n",
       " 'Iowa 2016': 1,\n",
       " 'Kansas 2012': 1,\n",
       " 'Kansas 2016': 1,\n",
       " 'Kentucky 2012': 1,\n",
       " 'Kentucky 2016': 1,\n",
       " 'Louisiana 2016': 1,\n",
       " 'Maine 2012': 1,\n",
       " 'Mississippi 2012': 1,\n",
       " 'Mississippi 2016': 1,\n",
       " 'Nebraska 2016': 1,\n",
       " 'North Carolina 2016': 1,\n",
       " 'Oklahoma 2012': 1,\n",
       " 'Oklahoma 2016': 1,\n",
       " 'South Carolina 2012': 1,\n",
       " 'South Carolina 2016': 1,\n",
       " 'South Dakota 2016': 1,\n",
       " 'Tennessee 2012': 1,\n",
       " 'Tennessee 2016': 1,\n",
       " 'Texas 2012': 1,\n",
       " 'Texas 2016': 1,\n",
       " 'Utah 2012': 1,\n",
       " 'Utah 2016': 1,\n",
       " 'Wyoming 2012': 1,\n",
       " 'Wyoming 2016': 1,\n",
       " 'Colorado 2012': 2,\n",
       " 'Michigan 2012': 2,\n",
       " 'Michigan 2016': 2,\n",
       " 'Minnesota 2012': 2,\n",
       " 'Montana 2012': 2,\n",
       " 'New Mexico 2012': 2,\n",
       " 'New Mexico 2016': 2,\n",
       " 'Oregon 2012': 2,\n",
       " 'Virginia 2012': 2,\n",
       " 'Virginia 2016': 2,\n",
       " 'Washington 2012': 2,\n",
       " 'West Virginia 2012': 2,\n",
       " 'Alaska 2012': 3,\n",
       " 'Arkansas 2012': 3,\n",
       " 'Colorado 2016': 3,\n",
       " 'Florida 2012': 3,\n",
       " 'Florida 2016': 3,\n",
       " 'Illinois 2012': 3,\n",
       " 'Illinois 2016': 3,\n",
       " 'Indiana 2016': 3,\n",
       " 'Iowa 2012': 3,\n",
       " 'Louisiana 2012': 3,\n",
       " 'Maine 2016': 3,\n",
       " 'Missouri 2012': 3,\n",
       " 'Missouri 2016': 3,\n",
       " 'Montana 2016': 3,\n",
       " 'Nebraska 2012': 3,\n",
       " 'Nevada 2012': 3,\n",
       " 'Nevada 2016': 3,\n",
       " 'New Hampshire 2012': 3,\n",
       " 'New Hampshire 2016': 3,\n",
       " 'North Carolina 2012': 3,\n",
       " 'North Dakota 2012': 3,\n",
       " 'North Dakota 2016': 3,\n",
       " 'Ohio 2012': 3,\n",
       " 'Ohio 2016': 3,\n",
       " 'Pennsylvania 2012': 3,\n",
       " 'Pennsylvania 2016': 3,\n",
       " 'South Dakota 2012': 3,\n",
       " 'West Virginia 2016': 3,\n",
       " 'Wisconsin 2012': 3,\n",
       " 'Wisconsin 2016': 3}"
      ]
     },
     "execution_count": 44,
     "metadata": {},
     "output_type": "execute_result"
    }
   ],
   "source": [
    "{k: v for k, v in sorted(res_4.items(), key=lambda item: item[1])}"
   ]
  },
  {
   "cell_type": "code",
   "execution_count": 45,
   "metadata": {
    "scrolled": true
   },
   "outputs": [
    {
     "data": {
      "text/plain": [
       "{'Alabama 2012': 0,\n",
       " 'Alabama 2016': 0,\n",
       " 'Alaska 2016': 0,\n",
       " 'Arizona 2012': 0,\n",
       " 'Arizona 2016': 0,\n",
       " 'Arkansas 2016': 0,\n",
       " 'Georgia 2012': 0,\n",
       " 'Georgia 2016': 0,\n",
       " 'Idaho 2012': 0,\n",
       " 'Idaho 2016': 0,\n",
       " 'Indiana 2012': 0,\n",
       " 'Iowa 2016': 0,\n",
       " 'Kansas 2012': 0,\n",
       " 'Kansas 2016': 0,\n",
       " 'Kentucky 2012': 0,\n",
       " 'Kentucky 2016': 0,\n",
       " 'Louisiana 2016': 0,\n",
       " 'Maine 2012': 0,\n",
       " 'Mississippi 2012': 0,\n",
       " 'Mississippi 2016': 0,\n",
       " 'Nebraska 2016': 0,\n",
       " 'North Carolina 2016': 0,\n",
       " 'Oklahoma 2012': 0,\n",
       " 'Oklahoma 2016': 0,\n",
       " 'South Carolina 2012': 0,\n",
       " 'South Carolina 2016': 0,\n",
       " 'South Dakota 2016': 0,\n",
       " 'Tennessee 2012': 0,\n",
       " 'Tennessee 2016': 0,\n",
       " 'Texas 2012': 0,\n",
       " 'Texas 2016': 0,\n",
       " 'Utah 2012': 0,\n",
       " 'Utah 2016': 0,\n",
       " 'Wyoming 2012': 0,\n",
       " 'Wyoming 2016': 0,\n",
       " 'California 2012': 1,\n",
       " 'California 2016': 1,\n",
       " 'Colorado 2012': 1,\n",
       " 'Connecticut 2012': 1,\n",
       " 'Connecticut 2016': 1,\n",
       " 'Delaware 2012': 1,\n",
       " 'Delaware 2016': 1,\n",
       " 'Hawaii 2012': 1,\n",
       " 'Hawaii 2016': 1,\n",
       " 'Maryland 2012': 1,\n",
       " 'Maryland 2016': 1,\n",
       " 'Massachusetts 2012': 1,\n",
       " 'Massachusetts 2016': 1,\n",
       " 'Minnesota 2012': 1,\n",
       " 'Minnesota 2016': 1,\n",
       " 'New Jersey 2012': 1,\n",
       " 'New Jersey 2016': 1,\n",
       " 'New Mexico 2012': 1,\n",
       " 'New Mexico 2016': 1,\n",
       " 'New York 2012': 1,\n",
       " 'New York 2016': 1,\n",
       " 'Oregon 2012': 1,\n",
       " 'Oregon 2016': 1,\n",
       " 'Rhode Island 2012': 1,\n",
       " 'Rhode Island 2016': 1,\n",
       " 'Vermont 2012': 1,\n",
       " 'Vermont 2016': 1,\n",
       " 'Washington 2012': 1,\n",
       " 'Washington 2016': 1,\n",
       " 'Alaska 2012': 2,\n",
       " 'Arkansas 2012': 2,\n",
       " 'Colorado 2016': 2,\n",
       " 'Florida 2012': 2,\n",
       " 'Florida 2016': 2,\n",
       " 'Illinois 2012': 2,\n",
       " 'Illinois 2016': 2,\n",
       " 'Indiana 2016': 2,\n",
       " 'Iowa 2012': 2,\n",
       " 'Louisiana 2012': 2,\n",
       " 'Maine 2016': 2,\n",
       " 'Michigan 2012': 2,\n",
       " 'Michigan 2016': 2,\n",
       " 'Missouri 2012': 2,\n",
       " 'Missouri 2016': 2,\n",
       " 'Montana 2012': 2,\n",
       " 'Montana 2016': 2,\n",
       " 'Nebraska 2012': 2,\n",
       " 'Nevada 2012': 2,\n",
       " 'Nevada 2016': 2,\n",
       " 'New Hampshire 2012': 2,\n",
       " 'New Hampshire 2016': 2,\n",
       " 'North Carolina 2012': 2,\n",
       " 'North Dakota 2012': 2,\n",
       " 'North Dakota 2016': 2,\n",
       " 'Ohio 2012': 2,\n",
       " 'Ohio 2016': 2,\n",
       " 'Pennsylvania 2012': 2,\n",
       " 'Pennsylvania 2016': 2,\n",
       " 'South Dakota 2012': 2,\n",
       " 'Virginia 2012': 2,\n",
       " 'Virginia 2016': 2,\n",
       " 'West Virginia 2012': 2,\n",
       " 'West Virginia 2016': 2,\n",
       " 'Wisconsin 2012': 2,\n",
       " 'Wisconsin 2016': 2}"
      ]
     },
     "execution_count": 45,
     "metadata": {},
     "output_type": "execute_result"
    }
   ],
   "source": [
    "{k: v for k, v in sorted(res_3.items(), key=lambda item: item[1])}"
   ]
  },
  {
   "cell_type": "code",
   "execution_count": 46,
   "metadata": {
    "scrolled": true
   },
   "outputs": [
    {
     "data": {
      "text/plain": [
       "{'California 2012': 0,\n",
       " 'California 2016': 0,\n",
       " 'Colorado 2012': 0,\n",
       " 'Connecticut 2012': 0,\n",
       " 'Connecticut 2016': 0,\n",
       " 'Delaware 2012': 0,\n",
       " 'Delaware 2016': 0,\n",
       " 'Hawaii 2012': 0,\n",
       " 'Hawaii 2016': 0,\n",
       " 'Illinois 2016': 0,\n",
       " 'Maryland 2012': 0,\n",
       " 'Maryland 2016': 0,\n",
       " 'Massachusetts 2012': 0,\n",
       " 'Massachusetts 2016': 0,\n",
       " 'Michigan 2012': 0,\n",
       " 'Michigan 2016': 0,\n",
       " 'Minnesota 2012': 0,\n",
       " 'Minnesota 2016': 0,\n",
       " 'Montana 2012': 0,\n",
       " 'New Hampshire 2016': 0,\n",
       " 'New Jersey 2012': 0,\n",
       " 'New Jersey 2016': 0,\n",
       " 'New Mexico 2012': 0,\n",
       " 'New Mexico 2016': 0,\n",
       " 'New York 2012': 0,\n",
       " 'New York 2016': 0,\n",
       " 'Oregon 2012': 0,\n",
       " 'Oregon 2016': 0,\n",
       " 'Rhode Island 2012': 0,\n",
       " 'Rhode Island 2016': 0,\n",
       " 'Vermont 2012': 0,\n",
       " 'Vermont 2016': 0,\n",
       " 'Virginia 2012': 0,\n",
       " 'Virginia 2016': 0,\n",
       " 'Washington 2012': 0,\n",
       " 'Washington 2016': 0,\n",
       " 'West Virginia 2012': 0,\n",
       " 'Alabama 2012': 1,\n",
       " 'Alabama 2016': 1,\n",
       " 'Alaska 2012': 1,\n",
       " 'Alaska 2016': 1,\n",
       " 'Arizona 2012': 1,\n",
       " 'Arizona 2016': 1,\n",
       " 'Arkansas 2012': 1,\n",
       " 'Arkansas 2016': 1,\n",
       " 'Colorado 2016': 1,\n",
       " 'Florida 2012': 1,\n",
       " 'Florida 2016': 1,\n",
       " 'Georgia 2012': 1,\n",
       " 'Georgia 2016': 1,\n",
       " 'Idaho 2012': 1,\n",
       " 'Idaho 2016': 1,\n",
       " 'Illinois 2012': 1,\n",
       " 'Indiana 2012': 1,\n",
       " 'Indiana 2016': 1,\n",
       " 'Iowa 2012': 1,\n",
       " 'Iowa 2016': 1,\n",
       " 'Kansas 2012': 1,\n",
       " 'Kansas 2016': 1,\n",
       " 'Kentucky 2012': 1,\n",
       " 'Kentucky 2016': 1,\n",
       " 'Louisiana 2012': 1,\n",
       " 'Louisiana 2016': 1,\n",
       " 'Maine 2012': 1,\n",
       " 'Maine 2016': 1,\n",
       " 'Mississippi 2012': 1,\n",
       " 'Mississippi 2016': 1,\n",
       " 'Missouri 2012': 1,\n",
       " 'Missouri 2016': 1,\n",
       " 'Montana 2016': 1,\n",
       " 'Nebraska 2012': 1,\n",
       " 'Nebraska 2016': 1,\n",
       " 'Nevada 2012': 1,\n",
       " 'Nevada 2016': 1,\n",
       " 'New Hampshire 2012': 1,\n",
       " 'North Carolina 2012': 1,\n",
       " 'North Carolina 2016': 1,\n",
       " 'North Dakota 2012': 1,\n",
       " 'North Dakota 2016': 1,\n",
       " 'Ohio 2012': 1,\n",
       " 'Ohio 2016': 1,\n",
       " 'Oklahoma 2012': 1,\n",
       " 'Oklahoma 2016': 1,\n",
       " 'Pennsylvania 2012': 1,\n",
       " 'Pennsylvania 2016': 1,\n",
       " 'South Carolina 2012': 1,\n",
       " 'South Carolina 2016': 1,\n",
       " 'South Dakota 2012': 1,\n",
       " 'South Dakota 2016': 1,\n",
       " 'Tennessee 2012': 1,\n",
       " 'Tennessee 2016': 1,\n",
       " 'Texas 2012': 1,\n",
       " 'Texas 2016': 1,\n",
       " 'Utah 2012': 1,\n",
       " 'Utah 2016': 1,\n",
       " 'West Virginia 2016': 1,\n",
       " 'Wisconsin 2012': 1,\n",
       " 'Wisconsin 2016': 1,\n",
       " 'Wyoming 2012': 1,\n",
       " 'Wyoming 2016': 1}"
      ]
     },
     "execution_count": 46,
     "metadata": {},
     "output_type": "execute_result"
    }
   ],
   "source": [
    "{k: v for k, v in sorted(res_2.items(), key=lambda item: item[1])}"
   ]
  },
  {
   "cell_type": "code",
   "execution_count": 64,
   "metadata": {
    "scrolled": true
   },
   "outputs": [
    {
     "name": "stdout",
     "output_type": "stream",
     "text": [
      "[5.03163616e+00 2.20404074e+00 1.97380654e+00 1.92466941e+00\n",
      " 1.40215138e+00 1.38765713e+00 8.09313193e-01 4.90728777e-01\n",
      " 3.42821197e-01 2.90254362e-01 1.58969301e-01 1.06422600e-01\n",
      " 6.47688555e-02 6.08080547e-02 4.86373803e-02 3.96188163e-02\n",
      " 3.09039756e-02 2.66371861e-02 1.97866639e-02 1.76331174e-02\n",
      " 1.22843445e-02 3.55040497e-03 2.11110051e-10 1.41958862e-10\n",
      " 1.29171084e-10 5.54562819e-16]\n"
     ]
    }
   ],
   "source": [
    "pca = PCA()\n",
    "pca.fit(X)\n",
    "print(pca.singular_values_)"
   ]
  },
  {
   "cell_type": "code",
   "execution_count": 65,
   "metadata": {
    "scrolled": true
   },
   "outputs": [
    {
     "data": {
      "text/plain": [
       "array([5.91311976e-01, 1.13458608e-01, 9.09928738e-02, 8.65188028e-02,\n",
       "       4.59185346e-02, 4.49741080e-02, 1.52978872e-02, 5.62446564e-03,\n",
       "       2.74494439e-03, 1.96768568e-03, 5.90234709e-04, 2.64524525e-04,\n",
       "       9.79784716e-05, 8.63615515e-05, 5.52507993e-05, 3.66607383e-05,\n",
       "       2.23062682e-05, 1.65719992e-05, 9.14415059e-06, 7.26200285e-06,\n",
       "       3.52453794e-06, 2.94410978e-07, 1.04091684e-21, 4.70677278e-22,\n",
       "       3.89698580e-22, 7.18289823e-33])"
      ]
     },
     "execution_count": 65,
     "metadata": {},
     "output_type": "execute_result"
    }
   ],
   "source": [
    "pca.explained_variance_ratio_"
   ]
  },
  {
   "cell_type": "code",
   "execution_count": 66,
   "metadata": {
    "scrolled": true
   },
   "outputs": [
    {
     "data": {
      "text/plain": [
       "Text(0, 0.5, 'Cumulative Explained Variance')"
      ]
     },
     "execution_count": 66,
     "metadata": {},
     "output_type": "execute_result"
    },
    {
     "data": {
      "image/png": "[encoded data removed]",
      "text/plain": [
       "<Figure size 720x576 with 1 Axes>"
      ]
     },
     "metadata": {
      "needs_background": "light"
     },
     "output_type": "display_data"
    }
   ],
   "source": [
    "plt.figure(figsize=(10,8))\n",
    "plt.plot(range(1,27), pca.explained_variance_ratio_.cumsum(), marker='o', linestyle='--')\n",
    "plt.title('Explained Variance by Components')\n",
    "plt.xlabel('Number of Components')\n",
    "plt.ylabel('Cumulative Explained Variance')"
   ]
  },
  {
   "cell_type": "code",
   "execution_count": 50,
   "metadata": {
    "scrolled": true
   },
   "outputs": [],
   "source": [
    "pca = PCA(n_components=5)"
   ]
  },
  {
   "cell_type": "code",
   "execution_count": 51,
   "metadata": {
    "scrolled": true
   },
   "outputs": [
    {
     "data": {
      "text/plain": [
       "PCA(n_components=5)"
      ]
     },
     "execution_count": 51,
     "metadata": {},
     "output_type": "execute_result"
    }
   ],
   "source": [
    "pca.fit(X)"
   ]
  },
  {
   "cell_type": "code",
   "execution_count": 52,
   "metadata": {
    "scrolled": false
   },
   "outputs": [
    {
     "data": {
      "text/plain": [
       "array([[-6.37216251e-01,  1.28609573e-01, -8.00570017e-02,\n",
       "        -1.65442795e-01, -1.12201856e-01],\n",
       "       [-5.95649522e-01,  1.14944585e-01, -6.77606945e-02,\n",
       "        -4.62723269e-02, -1.22703176e-01],\n",
       "       [-1.64506627e-01, -3.52136485e-01, -1.66574696e-01,\n",
       "         2.27738362e-01, -1.87698966e-02],\n",
       "       [-4.98335226e-01, -9.02187591e-02, -1.00656455e-01,\n",
       "         5.12188139e-01, -3.16555801e-02],\n",
       "       [-4.74699923e-01,  2.89579285e-01,  8.25045156e-02,\n",
       "        -1.11174494e-01,  2.86662140e-01],\n",
       "       [-3.85328899e-01,  3.30036868e-01,  1.13429665e-01,\n",
       "         3.04939243e-02,  2.76667157e-01],\n",
       "       [-1.91156301e-01, -6.02742432e-02, -1.48015802e-01,\n",
       "        -3.23201182e-01, -1.17956883e-02],\n",
       "       [-6.74548490e-01, -2.22431564e-02, -9.55717657e-02,\n",
       "        -2.45445967e-02, -1.46974785e-02],\n",
       "       [ 5.89609367e-01, -1.24358570e-01,  7.10012615e-01,\n",
       "        -1.65642635e-01,  1.22936470e-01],\n",
       "       [ 7.36730646e-01, -1.00938793e-01,  9.16479088e-01,\n",
       "         7.80556362e-02,  4.86990747e-02],\n",
       "       [ 4.08458624e-01, -2.31945463e-01, -5.87109306e-02,\n",
       "        -1.79752712e-01,  1.73606726e-01],\n",
       "       [ 8.73194424e-02, -3.50727726e-03,  2.56574962e-02,\n",
       "         1.90198132e-01,  1.49837791e-01],\n",
       "       [ 8.54895735e-01,  1.79308700e-01, -4.68826576e-02,\n",
       "         2.51764242e-01,  1.70649184e-02],\n",
       "       [ 9.20546169e-01,  1.56893795e-01, -2.57682676e-02,\n",
       "         4.40955794e-01,  1.22521523e-02],\n",
       "       [ 7.20615543e-01,  2.80872520e-01, -1.52192355e-01,\n",
       "        -2.01386438e-01, -6.82069073e-02],\n",
       "       [ 7.76805709e-01,  2.65433645e-01, -1.40556581e-01,\n",
       "        -4.28616613e-02, -8.02431656e-02],\n",
       "       [-1.01029811e-01, -1.04567606e-01,  1.72864138e-01,\n",
       "        -1.34878266e-01,  9.05457677e-02],\n",
       "       [-1.73846246e-01, -3.27223537e-01,  2.34265011e-01,\n",
       "         3.08386867e-02,  8.61239736e-02],\n",
       "       [-4.73459447e-01,  3.32046848e-01,  5.71620608e-02,\n",
       "        -1.30628229e-01, -1.22340392e-01],\n",
       "       [-4.69934159e-01,  2.27727122e-01,  9.47628251e-02,\n",
       "         3.78738076e-02, -1.42193605e-01],\n",
       "       [ 7.78549751e-01,  3.47504757e-01, -1.20292728e-01,\n",
       "        -1.59756703e-01, -1.04851821e-01],\n",
       "       [ 8.28468234e-01,  3.05572945e-01, -1.09822889e-01,\n",
       "         3.25743431e-02, -1.03768942e-01],\n",
       "       [-7.17609592e-01, -3.60351688e-02, -1.08662514e-01,\n",
       "        -1.37850116e-01,  1.29188566e-01],\n",
       "       [-6.68847411e-01, -6.52109794e-02, -9.74790498e-02,\n",
       "         2.83938266e-02,  1.26269225e-01],\n",
       "       [ 2.89387044e-02,  2.44459654e-02,  1.39746134e-01,\n",
       "        -2.51329449e-02,  1.77031796e-03],\n",
       "       [ 1.70235545e-01,  1.06624581e-01,  1.88218304e-01,\n",
       "         1.66599327e-01, -1.88938649e-02],\n",
       "       [-4.96359318e-01,  2.24903470e-01, -2.14186565e-02,\n",
       "        -4.60462726e-02, -2.61576314e-02],\n",
       "       [-1.19463078e-01, -1.40760622e-01, -6.17854454e-02,\n",
       "        -6.88530681e-02, -2.79483406e-02],\n",
       "       [ 6.85521708e-02,  1.72397320e-01, -1.12093099e-01,\n",
       "        -1.24101054e-01, -3.93135716e-04],\n",
       "       [-4.78288785e-01,  1.22672987e-01, -6.44604450e-02,\n",
       "         1.68601697e-01, -1.17360965e-03],\n",
       "       [-6.48918814e-01, -5.38736414e-02, -6.93561313e-02,\n",
       "         6.76529903e-02,  7.01820818e-02],\n",
       "       [-6.10967036e-01, -6.70205405e-02, -5.60311941e-02,\n",
       "         1.74774476e-01,  6.65094030e-02],\n",
       "       [-5.32676236e-01,  2.38142782e-01, -8.37550577e-02,\n",
       "        -1.42897530e-01, -3.45473477e-02],\n",
       "       [-5.81339413e-01,  8.18140531e-02, -8.15875002e-02,\n",
       "        -4.78102945e-03, -3.89815577e-02],\n",
       "       [-2.07386050e-01, -1.26179327e-01, -1.06548186e-01,\n",
       "        -2.27060902e-01, -1.41802728e-01],\n",
       "       [-5.55608022e-01,  1.37552097e-01, -4.91181330e-02,\n",
       "         2.70379539e-02, -1.49590832e-01],\n",
       "       [-9.19494376e-02,  7.35412437e-01, -9.62729733e-02,\n",
       "         8.84926944e-02, -5.42052595e-02],\n",
       "       [ 8.56204101e-02,  5.67909228e-02, -1.70598459e-01,\n",
       "         1.01690984e-01, -4.71610631e-02],\n",
       "       [ 6.45609132e-01,  6.56957180e-02, -5.39803885e-02,\n",
       "        -3.31612039e-02, -1.42058801e-01],\n",
       "       [ 7.67921439e-01,  1.40928280e-01, -1.74407357e-02,\n",
       "         1.32351274e-01, -1.53786922e-01],\n",
       "       [ 4.41483451e-01,  4.31725433e-01,  5.37493644e-02,\n",
       "         3.22293296e-01, -4.91289182e-02],\n",
       "       [ 9.13898757e-01,  1.44148820e-01,  4.08821339e-02,\n",
       "         3.98152595e-01, -5.89126151e-02],\n",
       "       [ 3.13749111e-01, -2.75880861e-01, -9.10305681e-02,\n",
       "        -3.36322663e-01, -8.64673609e-02],\n",
       "       [ 3.79104263e-01, -2.87441476e-01, -5.84506029e-02,\n",
       "        -1.68309390e-01, -1.01862854e-01],\n",
       "       [ 4.67955120e-01, -1.91611896e-01, -1.18830742e-01,\n",
       "        -1.01215961e-01, -4.57530466e-02],\n",
       "       [ 5.86199082e-01, -1.13969983e-01, -8.83710156e-02,\n",
       "         5.28381148e-02, -6.57427989e-02],\n",
       "       [-5.96476077e-01,  2.64700318e-01, -1.04689006e-01,\n",
       "        -2.54165831e-01, -1.69304264e-01],\n",
       "       [-5.68877873e-01,  2.51142379e-01, -9.90416773e-02,\n",
       "        -1.66095483e-01, -1.75344544e-01],\n",
       "       [-8.73296559e-02, -3.68238119e-02, -9.76651308e-02,\n",
       "        -1.49062888e-01, -6.67025004e-02],\n",
       "       [-8.97612751e-02, -1.22189407e-01, -8.59462417e-02,\n",
       "        -1.83696927e-02, -7.35561140e-02],\n",
       "       [ 1.23610544e-01, -5.80414143e-01, -2.55446477e-01,\n",
       "        -2.68835539e-01,  1.39571940e-02],\n",
       "       [-2.29312769e-01, -3.43030353e-01, -1.93079917e-01,\n",
       "         1.77604310e-02,  5.69249375e-03],\n",
       "       [-2.36504425e-01, -3.30429225e-01, -1.39996603e-01,\n",
       "        -1.41106183e-02,  6.68783731e-02],\n",
       "       [-4.05838203e-01,  1.83980556e-01, -5.15279681e-02,\n",
       "         2.55157349e-01,  4.85543618e-02],\n",
       "       [-5.56382046e-02, -1.68842890e-03, -2.67683922e-02,\n",
       "        -1.21050785e-01,  2.28938539e-01],\n",
       "       [-4.13159119e-02, -8.98879731e-02, -1.09496192e-02,\n",
       "         5.72788045e-02,  2.25683692e-01],\n",
       "       [-1.53463087e-01, -3.70696518e-01, -1.79955734e-01,\n",
       "         2.34699892e-01, -1.89888799e-02],\n",
       "       [ 1.72876424e-01,  3.38863105e-04, -1.41345784e-01,\n",
       "         4.10089810e-01, -4.30953853e-02],\n",
       "       [ 5.76825985e-01, -1.63812518e-01,  4.52521622e-02,\n",
       "         1.06913625e-01,  2.62409866e-02],\n",
       "       [ 6.20626767e-01, -2.06889463e-01, -6.05696827e-02,\n",
       "         3.31051257e-01,  6.49942602e-02],\n",
       "       [ 4.74211047e-01,  2.60545579e-02,  5.03655959e-02,\n",
       "        -4.47120540e-01,  5.12243182e-01],\n",
       "       [ 5.16487289e-01,  2.06789112e-02,  9.72286100e-03,\n",
       "        -3.18697728e-01,  5.33936242e-01],\n",
       "       [ 6.48861794e-01,  3.19526158e-02, -1.10489556e-01,\n",
       "         3.17827986e-02,  6.18417742e-02],\n",
       "       [ 6.99366498e-01, -6.10897423e-02, -2.60970676e-02,\n",
       "         2.75973189e-01,  2.80539640e-02],\n",
       "       [-4.90646527e-04,  1.81784395e-01, -3.63377788e-02,\n",
       "        -2.76258364e-01, -6.45249956e-02],\n",
       "       [-5.15430428e-01,  1.84458377e-01, -6.38667703e-02,\n",
       "         3.33718719e-02, -4.31785965e-02],\n",
       "       [-1.60452699e-01, -3.94205015e-01, -1.63471620e-01,\n",
       "         2.70269193e-01, -2.82361042e-02],\n",
       "       [-1.32750054e-01, -4.83947936e-01,  5.55104881e-01,\n",
       "         2.00302472e-01, -2.57856687e-01],\n",
       "       [-7.79629475e-02, -1.97454388e-01,  7.50291042e-01,\n",
       "        -1.96154662e-01, -3.52912286e-01],\n",
       "       [-7.30506345e-02, -1.32252392e-01, -2.85624647e-02,\n",
       "         1.66249277e-02, -1.06224309e-01],\n",
       "       [-5.71662075e-01,  1.12355226e-01,  7.84854447e-02,\n",
       "        -6.04521761e-02, -1.86295684e-02],\n",
       "       [-6.57863847e-01, -4.92494801e-02,  2.22436890e-02,\n",
       "         1.41617829e-02,  7.23768888e-03],\n",
       "       [ 5.67119629e-01,  7.04077565e-02, -2.44705367e-02,\n",
       "        -3.26077469e-01,  4.46253048e-02],\n",
       "       [ 6.31704679e-01,  6.59202102e-02, -1.36350496e-01,\n",
       "        -1.14262006e-01,  7.62527729e-02],\n",
       "       [-1.45394926e-02, -1.48524846e-02, -1.32543156e-01,\n",
       "         1.07368098e-02, -3.14204688e-02],\n",
       "       [-7.03847048e-03, -1.14065609e-01, -1.01138462e-01,\n",
       "         1.83424621e-01, -4.07208887e-02],\n",
       "       [ 7.34365724e-01,  2.40443429e-01, -7.87487409e-02,\n",
       "        -1.60630151e-01,  4.62168343e-02],\n",
       "       [ 7.95867607e-01,  1.55985642e-01,  3.18011102e-01,\n",
       "        -2.30816752e-02, -7.35671113e-02],\n",
       "       [-5.95150132e-01,  8.75545426e-02,  4.31027030e-01,\n",
       "        -1.93500499e-01, -2.72337317e-01],\n",
       "       [-5.73466588e-01,  8.80492268e-02,  1.34120574e-01,\n",
       "        -2.40975546e-02, -1.76947676e-01],\n",
       "       [-2.22414315e-01, -3.71553653e-01,  1.14081487e-01,\n",
       "        -2.96871712e-02, -1.03649905e-01],\n",
       "       [-5.77496609e-01, -9.94732689e-02, -1.08433577e-01,\n",
       "         3.05206712e-01, -2.42513746e-02],\n",
       "       [-5.70776616e-01,  1.63579778e-01, -8.83662229e-02,\n",
       "        -7.96233266e-02, -5.59160582e-02],\n",
       "       [-5.26167886e-01,  1.47025805e-01, -9.86830096e-02,\n",
       "         6.15092076e-02, -5.58447665e-02],\n",
       "       [-4.77482951e-01,  2.18699639e-01,  7.01376512e-02,\n",
       "         4.18133972e-02,  3.70348195e-01],\n",
       "       [-3.93638237e-01,  1.93438680e-01,  4.75576788e-01,\n",
       "         1.27512917e-01,  2.37356064e-01],\n",
       "       [-5.23637436e-01,  1.55658098e-01,  3.81354162e-01,\n",
       "        -1.57876665e-01, -1.28368273e-02],\n",
       "       [-6.38054226e-01, -8.19112269e-02,  7.00094618e-02,\n",
       "         7.19133688e-02,  8.43927644e-02],\n",
       "       [ 7.49135233e-01,  1.84646588e-01, -1.46032093e-02,\n",
       "        -1.07592412e-01, -1.10218477e-01],\n",
       "       [ 7.99326344e-01,  1.74755804e-01, -1.17241604e-01,\n",
       "         7.21386352e-02, -8.57970053e-02],\n",
       "       [ 3.51691853e-01, -3.43173558e-01, -1.06711073e-01,\n",
       "        -9.04584192e-02, -6.81938145e-02],\n",
       "       [ 4.03529352e-01, -3.55153073e-01, -1.20836138e-01,\n",
       "         6.11409276e-02, -6.56382155e-02],\n",
       "       [ 4.99813239e-01, -1.29129495e-01, -9.23557550e-02,\n",
       "        -1.20989499e-01,  3.64288780e-02],\n",
       "       [ 5.98764957e-01, -1.21763793e-01, -6.60853104e-02,\n",
       "         1.03804981e-01,  2.30401875e-02],\n",
       "       [ 2.44971486e-01, -3.06662642e-01, -1.56718568e-01,\n",
       "        -4.61142713e-01, -4.02763968e-02],\n",
       "       [-2.99489431e-01, -3.39602219e-01, -9.60233905e-02,\n",
       "        -2.00602293e-01, -4.74240793e-02],\n",
       "       [-3.32278615e-02, -1.60519395e-02, -4.19070002e-02,\n",
       "        -8.33150584e-02, -3.15186142e-02],\n",
       "       [ 1.24115746e-02, -2.37295454e-02, -1.38525583e-01,\n",
       "         7.95463683e-02, -4.79362079e-03],\n",
       "       [-5.82312163e-01, -8.62202915e-02,  8.89912320e-03,\n",
       "         2.92660562e-01,  3.06617611e-01],\n",
       "       [-5.54637108e-01, -1.02594927e-01,  1.71266643e-01,\n",
       "         3.36179185e-01,  1.90056918e-01]])"
      ]
     },
     "execution_count": 52,
     "metadata": {},
     "output_type": "execute_result"
    }
   ],
   "source": [
    "pca.transform(X)"
   ]
  },
  {
   "cell_type": "code",
   "execution_count": 53,
   "metadata": {
    "scrolled": true
   },
   "outputs": [],
   "source": [
    "scores_pca = pca.transform(X)"
   ]
  },
  {
   "cell_type": "code",
   "execution_count": 54,
   "metadata": {
    "scrolled": true
   },
   "outputs": [
    {
     "data": {
      "text/plain": [
       "100"
      ]
     },
     "execution_count": 54,
     "metadata": {},
     "output_type": "execute_result"
    }
   ],
   "source": [
    "len(scores_pca)"
   ]
  },
  {
   "cell_type": "code",
   "execution_count": 60,
   "metadata": {
    "scrolled": true
   },
   "outputs": [],
   "source": [
    "Sum_of_squared_distances = []\n",
    "K = range(1,15)\n",
    "for k in K:\n",
    "    km = KMeans(n_clusters=k)\n",
    "    km = km.fit(scores_pca)\n",
    "    Sum_of_squared_distances.append(km.inertia_)"
   ]
  },
  {
   "cell_type": "code",
   "execution_count": 61,
   "metadata": {
    "scrolled": true
   },
   "outputs": [
    {
     "data": {
      "image/png": "[encoded data removed]",
      "text/plain": [
       "<Figure size 432x288 with 1 Axes>"
      ]
     },
     "metadata": {
      "needs_background": "light"
     },
     "output_type": "display_data"
    }
   ],
   "source": [
    "plt.plot(K, Sum_of_squared_distances, 'bx-')\n",
    "plt.xlabel('k')\n",
    "plt.ylabel('Sum_of_squared_distances')\n",
    "plt.title('Elbow Method For Optimal k')\n",
    "plt.show()"
   ]
  },
  {
   "cell_type": "code",
   "execution_count": 55,
   "metadata": {
    "scrolled": true
   },
   "outputs": [
    {
     "data": {
      "text/plain": [
       "KMeans(n_clusters=2)"
      ]
     },
     "execution_count": 55,
     "metadata": {},
     "output_type": "execute_result"
    }
   ],
   "source": [
    "kmeans_4.fit(scores_pca)\n",
    "kmeans_3.fit(scores_pca)\n",
    "kmeans_2.fit(scores_pca)"
   ]
  },
  {
   "cell_type": "code",
   "execution_count": 56,
   "metadata": {
    "scrolled": true
   },
   "outputs": [],
   "source": [
    "res_4 = {rows[i]: kmeans_4.labels_[i] for i in range(len(kmeans_4.labels_))}\n",
    "res_3 = {rows[i]: kmeans_3.labels_[i] for i in range(len(kmeans_3.labels_))}\n",
    "res_2 = {rows[i]: kmeans_2.labels_[i] for i in range(len(kmeans_2.labels_))}"
   ]
  },
  {
   "cell_type": "code",
   "execution_count": 67,
   "metadata": {
    "scrolled": true
   },
   "outputs": [],
   "source": [
    "map_4 = {k: v for k, v in sorted(res_4.items(), key=lambda item: item[1])}"
   ]
  },
  {
   "cell_type": "code",
   "execution_count": 68,
   "metadata": {
    "scrolled": true
   },
   "outputs": [],
   "source": [
    "map_3 = {k: v for k, v in sorted(res_3.items(), key=lambda item: item[1])}"
   ]
  },
  {
   "cell_type": "code",
   "execution_count": 69,
   "metadata": {
    "scrolled": true
   },
   "outputs": [],
   "source": [
    "map_2 = {k: v for k, v in sorted(res_2.items(), key=lambda item: item[1])}"
   ]
  },
  {
   "cell_type": "code",
   "execution_count": 91,
   "metadata": {
    "scrolled": false
   },
   "outputs": [],
   "source": [
    "# map_4\n",
    "clusters = [[], [], [], []]\n",
    "\n",
    "for item in map_4:\n",
    "    clusters[map_4[item]].append(item)"
   ]
  },
  {
   "cell_type": "code",
   "execution_count": 92,
   "metadata": {
    "scrolled": false
   },
   "outputs": [
    {
     "name": "stdout",
     "output_type": "stream",
     "text": [
      "['Colorado 2012', 'Michigan 2012', 'Michigan 2016', 'Minnesota 2012', 'Montana 2012', 'New Mexico 2012', 'New Mexico 2016', 'Oregon 2012', 'Virginia 2012', 'Virginia 2016', 'Washington 2012', 'West Virginia 2012']\n",
      "\n",
      "['Alabama 2012', 'Alabama 2016', 'Alaska 2016', 'Arizona 2012', 'Arizona 2016', 'Arkansas 2016', 'Georgia 2012', 'Georgia 2016', 'Idaho 2012', 'Idaho 2016', 'Indiana 2012', 'Iowa 2016', 'Kansas 2012', 'Kansas 2016', 'Kentucky 2012', 'Kentucky 2016', 'Louisiana 2016', 'Maine 2012', 'Mississippi 2012', 'Mississippi 2016', 'Nebraska 2016', 'North Carolina 2016', 'Oklahoma 2012', 'Oklahoma 2016', 'South Carolina 2012', 'South Carolina 2016', 'South Dakota 2016', 'Tennessee 2012', 'Tennessee 2016', 'Texas 2012', 'Texas 2016', 'Utah 2012', 'Utah 2016', 'Wyoming 2012', 'Wyoming 2016']\n",
      "\n",
      "['Alaska 2012', 'Arkansas 2012', 'Colorado 2016', 'Florida 2012', 'Florida 2016', 'Illinois 2012', 'Illinois 2016', 'Indiana 2016', 'Iowa 2012', 'Louisiana 2012', 'Maine 2016', 'Missouri 2012', 'Missouri 2016', 'Montana 2016', 'Nebraska 2012', 'Nevada 2012', 'Nevada 2016', 'New Hampshire 2012', 'New Hampshire 2016', 'North Carolina 2012', 'North Dakota 2012', 'North Dakota 2016', 'Ohio 2012', 'Ohio 2016', 'Pennsylvania 2012', 'Pennsylvania 2016', 'South Dakota 2012', 'West Virginia 2016', 'Wisconsin 2012', 'Wisconsin 2016']\n",
      "\n",
      "['California 2012', 'California 2016', 'Connecticut 2012', 'Connecticut 2016', 'Delaware 2012', 'Delaware 2016', 'Hawaii 2012', 'Hawaii 2016', 'Maryland 2012', 'Maryland 2016', 'Massachusetts 2012', 'Massachusetts 2016', 'Minnesota 2016', 'New Jersey 2012', 'New Jersey 2016', 'New York 2012', 'New York 2016', 'Oregon 2016', 'Rhode Island 2012', 'Rhode Island 2016', 'Vermont 2012', 'Vermont 2016', 'Washington 2016']\n",
      "\n"
     ]
    }
   ],
   "source": [
    "for cluster in clusters:\n",
    "    print(cluster)\n",
    "    print(\"\")"
   ]
  },
  {
   "cell_type": "code",
   "execution_count": 93,
   "metadata": {
    "scrolled": true
   },
   "outputs": [],
   "source": [
    "# map_3\n",
    "clusters = [[], [], []]\n",
    "\n",
    "for item in map_3:\n",
    "    clusters[map_3[item]].append(item)"
   ]
  },
  {
   "cell_type": "code",
   "execution_count": 94,
   "metadata": {
    "scrolled": false
   },
   "outputs": [
    {
     "name": "stdout",
     "output_type": "stream",
     "text": [
      "['Alaska 2012', 'Arkansas 2012', 'Colorado 2016', 'Florida 2012', 'Florida 2016', 'Illinois 2012', 'Illinois 2016', 'Indiana 2016', 'Iowa 2012', 'Louisiana 2012', 'Maine 2016', 'Michigan 2012', 'Michigan 2016', 'Missouri 2012', 'Missouri 2016', 'Montana 2012', 'Montana 2016', 'Nebraska 2012', 'Nevada 2012', 'Nevada 2016', 'New Hampshire 2012', 'New Hampshire 2016', 'North Carolina 2012', 'North Dakota 2012', 'North Dakota 2016', 'Ohio 2012', 'Ohio 2016', 'Pennsylvania 2012', 'Pennsylvania 2016', 'South Dakota 2012', 'Virginia 2012', 'Virginia 2016', 'West Virginia 2012', 'West Virginia 2016', 'Wisconsin 2012', 'Wisconsin 2016']\n",
      "\n",
      "['California 2012', 'California 2016', 'Colorado 2012', 'Connecticut 2012', 'Connecticut 2016', 'Delaware 2012', 'Delaware 2016', 'Hawaii 2012', 'Hawaii 2016', 'Maryland 2012', 'Maryland 2016', 'Massachusetts 2012', 'Massachusetts 2016', 'Minnesota 2012', 'Minnesota 2016', 'New Jersey 2012', 'New Jersey 2016', 'New Mexico 2012', 'New Mexico 2016', 'New York 2012', 'New York 2016', 'Oregon 2012', 'Oregon 2016', 'Rhode Island 2012', 'Rhode Island 2016', 'Vermont 2012', 'Vermont 2016', 'Washington 2012', 'Washington 2016']\n",
      "\n",
      "['Alabama 2012', 'Alabama 2016', 'Alaska 2016', 'Arizona 2012', 'Arizona 2016', 'Arkansas 2016', 'Georgia 2012', 'Georgia 2016', 'Idaho 2012', 'Idaho 2016', 'Indiana 2012', 'Iowa 2016', 'Kansas 2012', 'Kansas 2016', 'Kentucky 2012', 'Kentucky 2016', 'Louisiana 2016', 'Maine 2012', 'Mississippi 2012', 'Mississippi 2016', 'Nebraska 2016', 'North Carolina 2016', 'Oklahoma 2012', 'Oklahoma 2016', 'South Carolina 2012', 'South Carolina 2016', 'South Dakota 2016', 'Tennessee 2012', 'Tennessee 2016', 'Texas 2012', 'Texas 2016', 'Utah 2012', 'Utah 2016', 'Wyoming 2012', 'Wyoming 2016']\n",
      "\n"
     ]
    }
   ],
   "source": [
    "for cluster in clusters:\n",
    "    print(cluster)\n",
    "    print(\"\")"
   ]
  },
  {
   "cell_type": "code",
   "execution_count": 95,
   "metadata": {
    "scrolled": true
   },
   "outputs": [],
   "source": [
    "# map_2\n",
    "clusters = [[], []]\n",
    "\n",
    "for item in map_2:\n",
    "    clusters[map_2[item]].append(item)"
   ]
  },
  {
   "cell_type": "code",
   "execution_count": 96,
   "metadata": {
    "scrolled": false
   },
   "outputs": [
    {
     "name": "stdout",
     "output_type": "stream",
     "text": [
      "['Alabama 2012', 'Alabama 2016', 'Alaska 2012', 'Alaska 2016', 'Arizona 2012', 'Arizona 2016', 'Arkansas 2012', 'Arkansas 2016', 'Colorado 2016', 'Florida 2012', 'Florida 2016', 'Georgia 2012', 'Georgia 2016', 'Idaho 2012', 'Idaho 2016', 'Illinois 2012', 'Indiana 2012', 'Indiana 2016', 'Iowa 2012', 'Iowa 2016', 'Kansas 2012', 'Kansas 2016', 'Kentucky 2012', 'Kentucky 2016', 'Louisiana 2012', 'Louisiana 2016', 'Maine 2012', 'Maine 2016', 'Mississippi 2012', 'Mississippi 2016', 'Missouri 2012', 'Missouri 2016', 'Montana 2016', 'Nebraska 2012', 'Nebraska 2016', 'Nevada 2012', 'Nevada 2016', 'New Hampshire 2012', 'North Carolina 2012', 'North Carolina 2016', 'North Dakota 2012', 'North Dakota 2016', 'Ohio 2012', 'Ohio 2016', 'Oklahoma 2012', 'Oklahoma 2016', 'Pennsylvania 2012', 'Pennsylvania 2016', 'South Carolina 2012', 'South Carolina 2016', 'South Dakota 2012', 'South Dakota 2016', 'Tennessee 2012', 'Tennessee 2016', 'Texas 2012', 'Texas 2016', 'Utah 2012', 'Utah 2016', 'West Virginia 2016', 'Wisconsin 2012', 'Wisconsin 2016', 'Wyoming 2012', 'Wyoming 2016']\n",
      "\n",
      "['California 2012', 'California 2016', 'Colorado 2012', 'Connecticut 2012', 'Connecticut 2016', 'Delaware 2012', 'Delaware 2016', 'Hawaii 2012', 'Hawaii 2016', 'Illinois 2016', 'Maryland 2012', 'Maryland 2016', 'Massachusetts 2012', 'Massachusetts 2016', 'Michigan 2012', 'Michigan 2016', 'Minnesota 2012', 'Minnesota 2016', 'Montana 2012', 'New Hampshire 2016', 'New Jersey 2012', 'New Jersey 2016', 'New Mexico 2012', 'New Mexico 2016', 'New York 2012', 'New York 2016', 'Oregon 2012', 'Oregon 2016', 'Rhode Island 2012', 'Rhode Island 2016', 'Vermont 2012', 'Vermont 2016', 'Virginia 2012', 'Virginia 2016', 'Washington 2012', 'Washington 2016', 'West Virginia 2012']\n",
      "\n"
     ]
    }
   ],
   "source": [
    "for cluster in clusters:\n",
    "    print(cluster)\n",
    "    print(\"\")"
   ]
  },
  {
   "cell_type": "code",
   "execution_count": null,
   "metadata": {
    "scrolled": true
   },
   "outputs": [],
   "source": []
  }
 ],
 "metadata": {
  "kernelspec": {
   "display_name": "Python 3",
   "language": "python",
   "name": "python3"
  },
  "language_info": {
   "codemirror_mode": {
    "name": "ipython",
    "version": 3
   },
   "file_extension": ".py",
   "mimetype": "text/x-python",
   "name": "python",
   "nbconvert_exporter": "python",
   "pygments_lexer": "ipython3",
   "version": "3.8.2"
  }
 },
 "nbformat": 4,
 "nbformat_minor": 4
}
